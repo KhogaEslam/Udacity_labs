{
  "nbformat": 4,
  "nbformat_minor": 0,
  "metadata": {
    "colab": {
      "provenance": [],
      "include_colab_link": true
    },
    "kernelspec": {
      "name": "python3",
      "display_name": "Python 3"
    },
    "language_info": {
      "name": "python"
    }
  },
  "cells": [
    {
      "cell_type": "markdown",
      "metadata": {
        "id": "view-in-github",
        "colab_type": "text"
      },
      "source": [
        "<a href=\"https://colab.research.google.com/github/KhogaEslam/Udacity_labs/blob/main/Session_12.ipynb\" target=\"_parent\"><img src=\"https://colab.research.google.com/assets/colab-badge.svg\" alt=\"Open In Colab\"/></a>"
      ]
    },
    {
      "cell_type": "code",
      "execution_count": null,
      "metadata": {
        "colab": {
          "base_uri": "https://localhost:8080/"
        },
        "id": "guS3xhvK3Dpl",
        "outputId": "3e97c63e-7d84-4293-8ce4-14ab2c6c9d2c"
      },
      "outputs": [
        {
          "output_type": "stream",
          "name": "stdout",
          "text": [
            "The sum of 1.5 and 6.3 is 7.8\n"
          ]
        }
      ],
      "source": [
        "# This program adds two numbers\n",
        "\n",
        "num1 = 1.5\n",
        "num2 = 6.3\n",
        "\n",
        "# Add two numbers\n",
        "sum = num1 + num2\n",
        "\n",
        "# Display the sum\n",
        "print('The sum of {0} and {1} is {2}'.format(num1, num2, sum))"
      ]
    },
    {
      "cell_type": "code",
      "source": [
        "# Store input numbers\n",
        "num1 = input('Enter first number: ')\n",
        "num2 = input('Enter second number: ')\n",
        "\n",
        "# Add two numbers\n",
        "sum = float(num1) + float(num2)\n",
        "\n",
        "# Display the sum\n",
        "print('The sum of {0} and {1} is {2}'.format(num1, num2, sum))"
      ],
      "metadata": {
        "colab": {
          "base_uri": "https://localhost:8080/"
        },
        "id": "2kKwkI2k3eXL",
        "outputId": "b760e08f-9a6f-4024-d621-28309575ae23"
      },
      "execution_count": null,
      "outputs": [
        {
          "output_type": "stream",
          "name": "stdout",
          "text": [
            "Enter first number: 1\n",
            "Enter second number: 2\n",
            "The sum of 1 and 2 is 3.0\n"
          ]
        }
      ]
    },
    {
      "cell_type": "code",
      "source": [
        "# Program to generate a random number between 0 and 9\n",
        "\n",
        "# importing the random module\n",
        "import random\n",
        "\n",
        "print(random.randint(0, 9))"
      ],
      "metadata": {
        "colab": {
          "base_uri": "https://localhost:8080/"
        },
        "id": "Ysc4yiGd3oca",
        "outputId": "3a933b57-7fe7-4332-a31f-f23cb0487f9e"
      },
      "execution_count": null,
      "outputs": [
        {
          "output_type": "stream",
          "name": "stdout",
          "text": [
            "6\n"
          ]
        }
      ]
    },
    {
      "cell_type": "code",
      "source": [
        "# Program to illustrate a loop with condition in the middle. \n",
        "# Take input from the user until a vowel is entered\n",
        "\n",
        "vowels = \"aeiouAEIOU\"\n",
        "\n",
        "# infinite loop\n",
        "while True:\n",
        "   v = input(\"Enter a vowel: \")\n",
        "   # condition in the middle\n",
        "   if v in vowels:\n",
        "       break\n",
        "   print(\"That is not a vowel. Try again!\")\n",
        "\n",
        "print(\"Thank you!\")"
      ],
      "metadata": {
        "colab": {
          "base_uri": "https://localhost:8080/"
        },
        "id": "mHFL-iEe31nw",
        "outputId": "f652b02e-223b-4e5c-a9d5-1d02f3e5fd89"
      },
      "execution_count": null,
      "outputs": [
        {
          "output_type": "stream",
          "name": "stdout",
          "text": [
            "Enter a vowel: y\n",
            "That is not a vowel. Try again!\n",
            "Enter a vowel: e\n",
            "Thank you!\n"
          ]
        }
      ]
    },
    {
      "cell_type": "code",
      "source": [
        "# Python program to illustrate a loop with the condition at the bottom\n",
        "# Roll a dice until the user chooses to exit\n",
        "\n",
        "# import random module\n",
        "import random\n",
        "\n",
        "while True:\n",
        "   input(\"Press enter to roll the dice\")\n",
        "\n",
        "   # get a number between 1 to 6\n",
        "   num = random.randint(1,6)\n",
        "   print(\"You got\",num)\n",
        "   option = input(\"Roll again?(y/n) \")\n",
        "\n",
        "   # condition\n",
        "   if option == 'n':\n",
        "       break"
      ],
      "metadata": {
        "colab": {
          "base_uri": "https://localhost:8080/"
        },
        "id": "NUXlLTYb3-3h",
        "outputId": "0777a0ee-74d3-4add-addc-0fffa5e7302d"
      },
      "execution_count": null,
      "outputs": [
        {
          "name": "stdout",
          "output_type": "stream",
          "text": [
            "Press enter to roll the dice3\n",
            "You got 4\n",
            "Roll again?(y/n) n\n"
          ]
        }
      ]
    },
    {
      "cell_type": "code",
      "source": [
        "number = 10\n",
        "\n",
        "if number > 0:\n",
        "    print('Positive number')\n",
        "\n",
        "else:\n",
        "    print('Negative number')\n",
        "\n",
        "print('This statement is always executed')"
      ],
      "metadata": {
        "colab": {
          "base_uri": "https://localhost:8080/"
        },
        "id": "yXGfj10F4Y8m",
        "outputId": "caab068b-412a-4218-95ff-7b25195e776b"
      },
      "execution_count": null,
      "outputs": [
        {
          "output_type": "stream",
          "name": "stdout",
          "text": [
            "Positive number\n",
            "This statement is always executed\n"
          ]
        }
      ]
    },
    {
      "cell_type": "code",
      "source": [
        "number = -2\n",
        "\n",
        "if number > 0:\n",
        "    print(\"Positive number\")\n",
        "\n",
        "elif number == 0:\n",
        "    print('Zero')\n",
        "else:\n",
        "    print('Negative number')\n"
      ],
      "metadata": {
        "colab": {
          "base_uri": "https://localhost:8080/"
        },
        "id": "Qs6S7Nhl4tuH",
        "outputId": "e5d83be5-96ce-47cb-df3a-9382516d8058"
      },
      "execution_count": null,
      "outputs": [
        {
          "output_type": "stream",
          "name": "stdout",
          "text": [
            "Negative number\n"
          ]
        }
      ]
    },
    {
      "cell_type": "code",
      "source": [
        "languages = ['Swift', 'Python', 'Go', 'JavaScript']\n",
        "\n",
        "# access items of a list using for loop\n",
        "for language in languages:\n",
        "    print(language)"
      ],
      "metadata": {
        "colab": {
          "base_uri": "https://localhost:8080/"
        },
        "id": "zBJIMFRH5A54",
        "outputId": "23bc01cb-9321-465c-ec00-6acb5b404e15"
      },
      "execution_count": null,
      "outputs": [
        {
          "output_type": "stream",
          "name": "stdout",
          "text": [
            "Swift\n",
            "Python\n",
            "Go\n",
            "JavaScript\n"
          ]
        }
      ]
    },
    {
      "cell_type": "code",
      "source": [
        "languages = ['Python', 'Java', 'JavaScript']\n",
        "\n",
        "# compute the length of languages\n",
        "length = len(languages)\n",
        "\n",
        "print(length)\n",
        "\n",
        "# Output: 3"
      ],
      "metadata": {
        "id": "CDQ_pKXO5UjE",
        "outputId": "9599f3f2-0431-4bf0-a4e6-79094385be8b",
        "colab": {
          "base_uri": "https://localhost:8080/"
        }
      },
      "execution_count": null,
      "outputs": [
        {
          "output_type": "stream",
          "name": "stdout",
          "text": [
            "3\n"
          ]
        }
      ]
    }
  ]
}